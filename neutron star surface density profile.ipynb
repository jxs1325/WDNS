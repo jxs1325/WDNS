{
 "cells": [
  {
   "cell_type": "code",
   "execution_count": 1,
   "metadata": {},
   "outputs": [
    {
     "name": "stdout",
     "output_type": "stream",
     "text": [
      "20000000000.0 0 7.865 0.0\n",
      "20000000004.48522 1 11.93 0.0061093530000000005\n",
      "20000000189.08168 2 45.17 0.9581980959999999\n",
      "20000001124.528023 3 34.22 4.613236296\n",
      "20000005524.52746 4 647.9 330.57172629600007\n",
      "20000019664.68925 5 2454.0 4314.640726296\n",
      "20000057814.469307 6 9292.0 45664.040726296\n",
      "20000156047.70096 7 35190.0 474806.09072629595\n",
      "20000347077.593037 8 133300.0 4653761.0907262955\n",
      "20000248593.431778 9 504699.99999999994 41925856.09072629\n",
      "19995491258.978477 10 1911000.0 350552356.0907262\n",
      "19951794772.069695 11 7238000.0 2676845556.090727\n",
      "19661231604.444267 12 27410000.0 17478245556.09073\n",
      "17795955038.838852 13 103800000.0 112766645556.09073\n",
      "7820401445.286423 14 393100000.0 674113445556.0907\n",
      "-15539709383.488083 15 1489000000.0 3667003445556.091\n"
     ]
    }
   ],
   "source": [
    "import numpy as np\n",
    "pi = np.pi\n",
    "\n",
    "G = 6.674*10**-8\n",
    "M=3*10**33\n",
    "l = [0,5.121*10**-4,2.159*10**-2,1.284*10**-1,6.315*10**-1,2.255*10**0,6.705*10**0,\n",
    "    1.890*10**1,5.025*10**1,1.241*10**2,2.856*10**2,6.070*10**2,1.147*10**3,2.065*10**3,\n",
    "    3.493*10**3,5.503*10**3,8.644*10**3,1.312*10**4,1.93*10**4]  #cm\n",
    "\n",
    "den=[7.865*10**0,1.193*10**1,4.517*10**1,1.711*10*2,6.479*10**2,2.454*10**3,9.292*10**3,\n",
    "    3.519*10**4,1.333*10**5,5.047*10**5,1.911*10**6,7.238*10**6,2.741*10**7,1.038*10**8,\n",
    "    3.931*10**8,1.489*10**9,5.638*10**9,2.135*10**10]     #gcm^-3\n",
    "dz=[]\n",
    "r=[]\n",
    "v=[]\n",
    "rI=[]\n",
    "for j in range(len(l)-1):\n",
    "    delz = l[j]-l[j-1]\n",
    "    if delz<0:\n",
    "        delz=0\n",
    "    dz.append(delz)\n",
    "# print((dz),len(den))\n",
    "\n",
    "colden=[]\n",
    "placeholder=0.0\n",
    "for k in range(len(l)-1):\n",
    "    placeholder=placeholder+den[k]*dz[k]\n",
    "    colden.append(placeholder)\n",
    "# print(colden,den)\n",
    "# print(colden,den,len(colden),len(den))\n",
    "cs=[]\n",
    "redcrosssection=[-6.34678,-7.34678,-8.34678,-9.34678,-10.34678,-11.34678,-12.34678]\n",
    "stopden=[]\n",
    "for i in range(len(l)):\n",
    "    r.append(1069100*(1-l[i]/1069100))\n",
    "for i in range(0,1):\n",
    "    redsig = 1*10**(-12)\n",
    "#     print(redsig)\n",
    "    vinitial=2*10**10\n",
    "#     redsig=10**-15\n",
    "    colden=0.0\n",
    "    for m in range(len(den)):\n",
    "        dv=((dz[m]/vinitial)*(G*M/(r[m]**2)-den[m]*vinitial**2*redsig))\n",
    "        v.append(vinitial+dv)\n",
    "        vinitial=vinitial+dv\n",
    "        colden=colden+dz[m]*den[m]\n",
    "        print(vinitial,m,den[m],colden)\n",
    "        if vinitial<0.0:\n",
    "            stopden.append(den[m-1]*1000)\n",
    "            rI.append(l[m-1])\n",
    "            break\n",
    "#     if vinitial<5*10**8:\n",
    "#         print(\"STOP2\")\n",
    "#         break\n",
    "# ,len(r)"
   ]
  },
  {
   "cell_type": "code",
   "execution_count": 2,
   "metadata": {},
   "outputs": [
    {
     "data": {
      "text/plain": [
       "[<matplotlib.lines.Line2D at 0x2222d162048>]"
      ]
     },
     "execution_count": 2,
     "metadata": {},
     "output_type": "execute_result"
    }
   ],
   "source": [
    "cs=[7*10**7,9*10**7,1*10**8,2.3*10**8,4*10**8,5*10**8, 6*10**8]\n",
    "stoppingden=[7.5464, 8.1248, 8.7030, 9.2813, 10.43790, 11.01619, 11.5945]\n",
    "rad=[1.2765, 1.70114, 2.09377, 2.45576, 3.05956, 3.31492, 3.54319]\n",
    "redcrosssection=[-6.34678,-7.34678,-8.34678,-9.34678,-10.34678,-11.34678,-12.34678]\n",
    "\n",
    "from scipy.interpolate import interp1d\n",
    "import matplotlib.pyplot as plt\n",
    "import numpy as np\n",
    "y0 = cs\n",
    "x0 = redcrosssection\n",
    "z0 = stoppingden\n",
    "a0 = rad\n",
    "plt.plot(x0, y0, 'o')\n",
    "\n",
    "# Array with points in between those of the data set for interpolation.\n",
    "x = np.linspace(-12.34677,-6.34679)\n",
    "\n",
    "# Available options for interp1d\n",
    "s = (2)\n",
    "\n",
    "\n",
    "f = interp1d(x0, y0, kind=s)    # interpolation function\n",
    "plt.plot(x, f(x), label='Quadratic fit')# plot of interpolated data"
   ]
  },
  {
   "cell_type": "code",
   "execution_count": 3,
   "metadata": {},
   "outputs": [
    {
     "data": {
      "text/plain": [
       "[<matplotlib.lines.Line2D at 0x2222e4d7cc0>]"
      ]
     },
     "execution_count": 3,
     "metadata": {},
     "output_type": "execute_result"
    },
    {
     "data": {
      "image/png": "[encoded data removed]",
      "text/plain": [
       "<Figure size 432x288 with 1 Axes>"
      ]
     },
     "metadata": {},
     "output_type": "display_data"
    }
   ],
   "source": [
    "plt.plot(x0, z0, 'o')     #stopping density\n",
    "\n",
    "# Array with points in between those of the data set for interpolation.\n",
    "x = np.linspace(-12.34677,-6.34679)\n",
    "\n",
    "# Available options for interp1d\n",
    "s = (2)\n",
    "\n",
    "\n",
    "g = interp1d(x0, z0, kind=s)    # interpolation function\n",
    "plt.plot(x, g(x), label='Quadratic fit')# plot of interpolated data"
   ]
  },
  {
   "cell_type": "code",
   "execution_count": 4,
   "metadata": {},
   "outputs": [
    {
     "data": {
      "text/plain": [
       "[<matplotlib.lines.Line2D at 0x2222e550da0>]"
      ]
     },
     "execution_count": 4,
     "metadata": {},
     "output_type": "execute_result"
    },
    {
     "data": {
      "image/png": "[encoded data removed]",
      "text/plain": [
       "<Figure size 432x288 with 1 Axes>"
      ]
     },
     "metadata": {},
     "output_type": "display_data"
    }
   ],
   "source": [
    "plt.plot(x0, a0, 'o')    #stopping position\n",
    "\n",
    "# Array with points in between those of the data set for interpolation.\n",
    "x = np.linspace(-12.34677,-6.34679)\n",
    "\n",
    "# Available options for interp1d\n",
    "s = (2)\n",
    "\n",
    "\n",
    "h = interp1d(x0, a0, kind=s)    # interpolation function\n",
    "plt.plot(x, h(x), label='Quadratic fit')# plot of interpolated data"
   ]
  },
  {
   "cell_type": "code",
   "execution_count": 63,
   "metadata": {},
   "outputs": [],
   "source": [
    "thermalmin = [[0.0]*2 for i in range(len(Mbound))]\n",
    "thermalmax = [[0.0]*2 for i in range(len(Mbound))]\n",
    "# print(np.size(augersmall))\n",
    "for i in range(0,len(Mbound)):\n",
    "    thermalmin[len(Mbound)-i-1][0]=Mbound[i]\n",
    "    thermalmax[i][0]=Mbound[i]\n",
    "    thermalmin[len(Mbound)-i-1][1]=sboundmin[i]\n",
    "    thermalmax[i][1]=sboundmax[i]"
   ]
  },
  {
   "cell_type": "code",
   "execution_count": null,
   "metadata": {},
   "outputs": [],
   "source": []
  },
  {
   "cell_type": "markdown",
   "metadata": {},
   "source": []
  }
 ],
 "metadata": {
  "kernelspec": {
   "display_name": "Python 3",
   "language": "python",
   "name": "python3"
  },
  "language_info": {
   "codemirror_mode": {
    "name": "ipython",
    "version": 3
   },
   "file_extension": ".py",
   "mimetype": "text/x-python",
   "name": "python",
   "nbconvert_exporter": "python",
   "pygments_lexer": "ipython3",
   "version": "3.6.5"
  }
 },
 "nbformat": 4,
 "nbformat_minor": 2
}
